{
 "cells": [
  {
   "cell_type": "code",
   "execution_count": 1,
   "metadata": {},
   "outputs": [],
   "source": [
    "from glob import glob\n",
    "import anndata\n",
    "import pandas as pd\n",
    "from scipy import io\n",
    "from scipy import sparse\n",
    "from tqdm import tqdm\n",
    "import anndata\n"
   ]
  },
  {
   "cell_type": "code",
   "execution_count": 2,
   "metadata": {},
   "outputs": [],
   "source": [
    "# create a dictionary with the paths for the subsampling folder where snakemake outputs are for each dataset\n",
    "\n",
    "datasets = ['heart10k', 'pbmc10k', 'neurons10k']\n",
    "\n",
    "subsampling_paths = {\n",
    "'heart10k' :'./heart_10k_v3/genecounts/',    \n",
    "'pbmc10k' :'./pbmc_10k_v3/genecounts/',    \n",
    "'neurons10k' :'./neuron_10k_v3/genecounts/',    \n",
    "}\n",
    "\n",
    "# these are annotation files downloaded from the 10x website, they are used to parse the barcodes and total number of cells in each dataset\n",
    "cluster_files = {\n",
    "'heart10k' :'./heart10k_clusters.csv',    \n",
    "'pbmc10k' :'./pbmc10k_clusters.csv',    \n",
    "'neurons10k' :'./neurons10k_clusters.csv',     \n",
    "    \n",
    "}"
   ]
  },
  {
   "cell_type": "code",
   "execution_count": 3,
   "metadata": {},
   "outputs": [
    {
     "name": "stdout",
     "output_type": "stream",
     "text": [
      "\n",
      " files for dataset heart10k :\n",
      "genecounts_subsampled_0        genecounts_subsampled_6400000\n",
      "genecounts_subsampled_100000   genecounts_subsampled_9050967\n",
      "genecounts_subsampled_141421   genecounts_subsampled_12800000\n",
      "genecounts_subsampled_200000   genecounts_subsampled_18101934\n",
      "genecounts_subsampled_282843   genecounts_subsampled_25600000\n",
      "genecounts_subsampled_400000   genecounts_subsampled_36203867\n",
      "genecounts_subsampled_565685   genecounts_subsampled_51200000\n",
      "genecounts_subsampled_800000   genecounts_subsampled_72407734\n",
      "genecounts_subsampled_1131371  genecounts_subsampled_102400000\n",
      "genecounts_subsampled_1600000  genecounts_subsampled_144815469\n",
      "genecounts_subsampled_2262742  genecounts_subsampled_204800000\n",
      "genecounts_subsampled_3200000  genecounts_subsampled_289630938\n",
      "genecounts_subsampled_4525483\n",
      "\n",
      " files for dataset pbmc10k :\n",
      "genecounts_subsampled_0        genecounts_subsampled_9050967\n",
      "genecounts_subsampled_100000   genecounts_subsampled_12800000\n",
      "genecounts_subsampled_141421   genecounts_subsampled_18101934\n",
      "genecounts_subsampled_200000   genecounts_subsampled_25600000\n",
      "genecounts_subsampled_282843   genecounts_subsampled_36203867\n",
      "genecounts_subsampled_400000   genecounts_subsampled_51200000\n",
      "genecounts_subsampled_565685   genecounts_subsampled_72407734\n",
      "genecounts_subsampled_800000   genecounts_subsampled_102400000\n",
      "genecounts_subsampled_1131371  genecounts_subsampled_144815469\n",
      "genecounts_subsampled_1600000  genecounts_subsampled_204800000\n",
      "genecounts_subsampled_2262742  genecounts_subsampled_289630938\n",
      "genecounts_subsampled_3200000  genecounts_subsampled_409600000\n",
      "genecounts_subsampled_4525483  genecounts_subsampled_579261875\n",
      "genecounts_subsampled_6400000\n",
      "\n",
      " files for dataset neurons10k :\n",
      "genecounts_subsampled_0        genecounts_subsampled_6400000\n",
      "genecounts_subsampled_100000   genecounts_subsampled_9050967\n",
      "genecounts_subsampled_141421   genecounts_subsampled_12800000\n",
      "genecounts_subsampled_200000   genecounts_subsampled_18101934\n",
      "genecounts_subsampled_282843   genecounts_subsampled_25600000\n",
      "genecounts_subsampled_400000   genecounts_subsampled_36203867\n",
      "genecounts_subsampled_565685   genecounts_subsampled_51200000\n",
      "genecounts_subsampled_800000   genecounts_subsampled_72407734\n",
      "genecounts_subsampled_1131371  genecounts_subsampled_102400000\n",
      "genecounts_subsampled_1600000  genecounts_subsampled_144815469\n",
      "genecounts_subsampled_2262742  genecounts_subsampled_204800000\n",
      "genecounts_subsampled_3200000  genecounts_subsampled_289630938\n",
      "genecounts_subsampled_4525483\n"
     ]
    }
   ],
   "source": [
    "# check that output folders eist\n",
    "for ds in datasets:\n",
    "    print('\\n files for dataset', ds, ':')\n",
    "    !ls -v {subsampling_paths[ds]}"
   ]
  },
  {
   "cell_type": "code",
   "execution_count": 4,
   "metadata": {},
   "outputs": [
    {
     "name": "stdout",
     "output_type": "stream",
     "text": [
      "total 1.5M\n",
      "drwxrwxr-x.  3 munfred munfred 4.0K Sep  7 18:17 .\n",
      "drwxrwxr-x. 29 munfred munfred 4.0K Sep  7 20:17 ..\n",
      "drwxrwxr-x.  2 munfred munfred 4.0K Sep  7 18:17 genecounts\n",
      "-rw-rw-r--.  1 munfred munfred 223K Sep  7 18:17 genecounts.barcodes.txt\n",
      "-rw-rw-r--.  1 munfred munfred 640K Sep  7 18:17 genecounts.genes.txt\n",
      "-rw-rw-r--.  1 munfred munfred 557K Sep  7 18:17 genecounts.mtx\n"
     ]
    }
   ],
   "source": [
    "# check one folder\n",
    "!ls -lah {subsampling_paths['pbmc10k']}/genecounts_subsampled_100000/"
   ]
  },
  {
   "cell_type": "code",
   "execution_count": 5,
   "metadata": {},
   "outputs": [
    {
     "name": "stdout",
     "output_type": "stream",
     "text": [
      " Now processing dataset:  heart10k\n"
     ]
    },
    {
     "data": {
      "text/html": [
       "<div>\n",
       "<style scoped>\n",
       "    .dataframe tbody tr th:only-of-type {\n",
       "        vertical-align: middle;\n",
       "    }\n",
       "\n",
       "    .dataframe tbody tr th {\n",
       "        vertical-align: top;\n",
       "    }\n",
       "\n",
       "    .dataframe thead th {\n",
       "        text-align: right;\n",
       "    }\n",
       "</style>\n",
       "<table border=\"1\" class=\"dataframe\">\n",
       "  <thead>\n",
       "    <tr style=\"text-align: right;\">\n",
       "      <th></th>\n",
       "      <th>Cluster</th>\n",
       "    </tr>\n",
       "    <tr>\n",
       "      <th>Barcode</th>\n",
       "      <th></th>\n",
       "    </tr>\n",
       "  </thead>\n",
       "  <tbody>\n",
       "    <tr>\n",
       "      <td>AAACCCAAGCGAGTCA</td>\n",
       "      <td>2</td>\n",
       "    </tr>\n",
       "    <tr>\n",
       "      <td>AAACCCAAGGTCATTC</td>\n",
       "      <td>1</td>\n",
       "    </tr>\n",
       "  </tbody>\n",
       "</table>\n",
       "</div>"
      ],
      "text/plain": [
       "                  Cluster\n",
       "Barcode                  \n",
       "AAACCCAAGCGAGTCA        2\n",
       "AAACCCAAGGTCATTC        1"
      ]
     },
     "metadata": {},
     "output_type": "display_data"
    },
    {
     "data": {
      "text/html": [
       "<div>\n",
       "<style scoped>\n",
       "    .dataframe tbody tr th:only-of-type {\n",
       "        vertical-align: middle;\n",
       "    }\n",
       "\n",
       "    .dataframe tbody tr th {\n",
       "        vertical-align: top;\n",
       "    }\n",
       "\n",
       "    .dataframe thead th {\n",
       "        text-align: right;\n",
       "    }\n",
       "</style>\n",
       "<table border=\"1\" class=\"dataframe\">\n",
       "  <thead>\n",
       "    <tr style=\"text-align: right;\">\n",
       "      <th></th>\n",
       "    </tr>\n",
       "    <tr>\n",
       "      <th>gene_id</th>\n",
       "    </tr>\n",
       "  </thead>\n",
       "  <tbody>\n",
       "    <tr>\n",
       "      <td>ENSMUSG00000051951.5</td>\n",
       "    </tr>\n",
       "    <tr>\n",
       "      <td>ENSMUSG00000102851.1</td>\n",
       "    </tr>\n",
       "  </tbody>\n",
       "</table>\n",
       "</div>"
      ],
      "text/plain": [
       "Empty DataFrame\n",
       "Columns: []\n",
       "Index: [ENSMUSG00000051951.5, ENSMUSG00000102851.1]"
      ]
     },
     "metadata": {},
     "output_type": "display_data"
    },
    {
     "name": "stderr",
     "output_type": "stream",
     "text": [
      "100%|██████████| 25/25 [03:44<00:00,  8.44s/it]\n"
     ]
    },
    {
     "name": "stdout",
     "output_type": "stream",
     "text": [
      "UMIs: \t 19373016 \t Reads: \t 51200000\n",
      "UMIs: \t 1341886 \t Reads: \t 3200000\n",
      "UMIs: \t 950966 \t Reads: \t 2262742\n",
      "UMIs: \t 72563226 \t Reads: \t 289630938\n",
      "UMIs: \t 59635 \t Reads: \t 141421\n",
      "UMIs: \t 72679923 \t Reads: \t 0\n",
      "UMIs: \t 1891433 \t Reads: \t 4525483\n",
      "UMIs: \t 3747318 \t Reads: \t 9050967\n",
      "UMIs: \t 337292 \t Reads: \t 800000\n",
      "UMIs: \t 5256131 \t Reads: \t 12800000\n",
      "UMIs: \t 673164 \t Reads: \t 1600000\n",
      "UMIs: \t 45811720 \t Reads: \t 144815469\n",
      "UMIs: \t 238550 \t Reads: \t 565685\n",
      "UMIs: \t 84409 \t Reads: \t 200000\n",
      "UMIs: \t 2664470 \t Reads: \t 6400000\n",
      "UMIs: \t 476734 \t Reads: \t 1131371\n",
      "UMIs: \t 35021220 \t Reads: \t 102400000\n",
      "UMIs: \t 42202 \t Reads: \t 100000\n",
      "UMIs: \t 7346236 \t Reads: \t 18101934\n",
      "UMIs: \t 58484104 \t Reads: \t 204800000\n",
      "UMIs: \t 168862 \t Reads: \t 400000\n",
      "UMIs: \t 10223782 \t Reads: \t 25600000\n",
      "UMIs: \t 14134634 \t Reads: \t 36203867\n",
      "UMIs: \t 26246409 \t Reads: \t 72407734\n",
      "UMIs: \t 119301 \t Reads: \t 282843\n",
      "AnnData object with n_obs × n_vars = 7713 × 36047 \n",
      "    obs: 'Cluster'\n",
      "    layers: '51200000', '3200000', '2262742', '289630938', '141421', '0', '4525483', '9050967', '800000', '12800000', '1600000', '144815469', '565685', '200000', '6400000', '1131371', '102400000', '100000', '18101934', '204800000', '400000', '25600000', '36203867', '72407734', '282843'\n",
      " Now processing dataset:  pbmc10k\n"
     ]
    },
    {
     "data": {
      "text/html": [
       "<div>\n",
       "<style scoped>\n",
       "    .dataframe tbody tr th:only-of-type {\n",
       "        vertical-align: middle;\n",
       "    }\n",
       "\n",
       "    .dataframe tbody tr th {\n",
       "        vertical-align: top;\n",
       "    }\n",
       "\n",
       "    .dataframe thead th {\n",
       "        text-align: right;\n",
       "    }\n",
       "</style>\n",
       "<table border=\"1\" class=\"dataframe\">\n",
       "  <thead>\n",
       "    <tr style=\"text-align: right;\">\n",
       "      <th></th>\n",
       "      <th>Cluster</th>\n",
       "    </tr>\n",
       "    <tr>\n",
       "      <th>Barcode</th>\n",
       "      <th></th>\n",
       "    </tr>\n",
       "  </thead>\n",
       "  <tbody>\n",
       "    <tr>\n",
       "      <td>AAACCCAAGCGCCCAT</td>\n",
       "      <td>6</td>\n",
       "    </tr>\n",
       "    <tr>\n",
       "      <td>AAACCCAAGGTTCCGC</td>\n",
       "      <td>12</td>\n",
       "    </tr>\n",
       "  </tbody>\n",
       "</table>\n",
       "</div>"
      ],
      "text/plain": [
       "                  Cluster\n",
       "Barcode                  \n",
       "AAACCCAAGCGCCCAT        6\n",
       "AAACCCAAGGTTCCGC       12"
      ]
     },
     "metadata": {},
     "output_type": "display_data"
    },
    {
     "data": {
      "text/html": [
       "<div>\n",
       "<style scoped>\n",
       "    .dataframe tbody tr th:only-of-type {\n",
       "        vertical-align: middle;\n",
       "    }\n",
       "\n",
       "    .dataframe tbody tr th {\n",
       "        vertical-align: top;\n",
       "    }\n",
       "\n",
       "    .dataframe thead th {\n",
       "        text-align: right;\n",
       "    }\n",
       "</style>\n",
       "<table border=\"1\" class=\"dataframe\">\n",
       "  <thead>\n",
       "    <tr style=\"text-align: right;\">\n",
       "      <th></th>\n",
       "    </tr>\n",
       "    <tr>\n",
       "      <th>gene_id</th>\n",
       "    </tr>\n",
       "  </thead>\n",
       "  <tbody>\n",
       "    <tr>\n",
       "      <td>ENSG00000223972.5</td>\n",
       "    </tr>\n",
       "    <tr>\n",
       "      <td>ENSG00000227232.5</td>\n",
       "    </tr>\n",
       "  </tbody>\n",
       "</table>\n",
       "</div>"
      ],
      "text/plain": [
       "Empty DataFrame\n",
       "Columns: []\n",
       "Index: [ENSG00000223972.5, ENSG00000227232.5]"
      ]
     },
     "metadata": {},
     "output_type": "display_data"
    },
    {
     "name": "stderr",
     "output_type": "stream",
     "text": [
      "100%|██████████| 27/27 [05:30<00:00,  8.94s/it]\n"
     ]
    },
    {
     "name": "stdout",
     "output_type": "stream",
     "text": [
      "UMIs: \t 19226439 \t Reads: \t 51200000\n",
      "UMIs: \t 1353775 \t Reads: \t 3200000\n",
      "UMIs: \t 80563999 \t Reads: \t 409600000\n",
      "UMIs: \t 959447 \t Reads: \t 2262742\n",
      "UMIs: \t 68096948 \t Reads: \t 289630938\n",
      "UMIs: \t 59981 \t Reads: \t 141421\n",
      "UMIs: \t 95614832 \t Reads: \t 0\n",
      "UMIs: \t 1907442 \t Reads: \t 4525483\n",
      "UMIs: \t 3773430 \t Reads: \t 9050967\n",
      "UMIs: \t 340898 \t Reads: \t 800000\n",
      "UMIs: \t 5284136 \t Reads: \t 12800000\n",
      "UMIs: \t 680142 \t Reads: \t 1600000\n",
      "UMIs: \t 44258659 \t Reads: \t 144815469\n",
      "UMIs: \t 241179 \t Reads: \t 565685\n",
      "UMIs: \t 85048 \t Reads: \t 200000\n",
      "UMIs: \t 2685602 \t Reads: \t 6400000\n",
      "UMIs: \t 481377 \t Reads: \t 1131371\n",
      "UMIs: \t 34214360 \t Reads: \t 102400000\n",
      "UMIs: \t 42464 \t Reads: \t 100000\n",
      "UMIs: \t 92430124 \t Reads: \t 579261875\n",
      "UMIs: \t 7372370 \t Reads: \t 18101934\n",
      "UMIs: \t 55739226 \t Reads: \t 204800000\n",
      "UMIs: \t 170422 \t Reads: \t 400000\n",
      "UMIs: \t 10231232 \t Reads: \t 25600000\n",
      "UMIs: \t 14094876 \t Reads: \t 36203867\n",
      "UMIs: \t 25870880 \t Reads: \t 72407734\n",
      "UMIs: \t 120614 \t Reads: \t 282843\n",
      "AnnData object with n_obs × n_vars = 11769 × 35606 \n",
      "    obs: 'Cluster'\n",
      "    layers: '51200000', '3200000', '409600000', '2262742', '289630938', '141421', '0', '4525483', '9050967', '800000', '12800000', '1600000', '144815469', '565685', '200000', '6400000', '1131371', '102400000', '100000', '579261875', '18101934', '204800000', '400000', '25600000', '36203867', '72407734', '282843'\n",
      " Now processing dataset:  neurons10k\n"
     ]
    },
    {
     "data": {
      "text/html": [
       "<div>\n",
       "<style scoped>\n",
       "    .dataframe tbody tr th:only-of-type {\n",
       "        vertical-align: middle;\n",
       "    }\n",
       "\n",
       "    .dataframe tbody tr th {\n",
       "        vertical-align: top;\n",
       "    }\n",
       "\n",
       "    .dataframe thead th {\n",
       "        text-align: right;\n",
       "    }\n",
       "</style>\n",
       "<table border=\"1\" class=\"dataframe\">\n",
       "  <thead>\n",
       "    <tr style=\"text-align: right;\">\n",
       "      <th></th>\n",
       "      <th>Cluster</th>\n",
       "    </tr>\n",
       "    <tr>\n",
       "      <th>Barcode</th>\n",
       "      <th></th>\n",
       "    </tr>\n",
       "  </thead>\n",
       "  <tbody>\n",
       "    <tr>\n",
       "      <td>AAACCCAAGCAACTCT</td>\n",
       "      <td>5</td>\n",
       "    </tr>\n",
       "    <tr>\n",
       "      <td>AAACCCACACGCGGTT</td>\n",
       "      <td>7</td>\n",
       "    </tr>\n",
       "  </tbody>\n",
       "</table>\n",
       "</div>"
      ],
      "text/plain": [
       "                  Cluster\n",
       "Barcode                  \n",
       "AAACCCAAGCAACTCT        5\n",
       "AAACCCACACGCGGTT        7"
      ]
     },
     "metadata": {},
     "output_type": "display_data"
    },
    {
     "data": {
      "text/html": [
       "<div>\n",
       "<style scoped>\n",
       "    .dataframe tbody tr th:only-of-type {\n",
       "        vertical-align: middle;\n",
       "    }\n",
       "\n",
       "    .dataframe tbody tr th {\n",
       "        vertical-align: top;\n",
       "    }\n",
       "\n",
       "    .dataframe thead th {\n",
       "        text-align: right;\n",
       "    }\n",
       "</style>\n",
       "<table border=\"1\" class=\"dataframe\">\n",
       "  <thead>\n",
       "    <tr style=\"text-align: right;\">\n",
       "      <th></th>\n",
       "    </tr>\n",
       "    <tr>\n",
       "      <th>gene_id</th>\n",
       "    </tr>\n",
       "  </thead>\n",
       "  <tbody>\n",
       "    <tr>\n",
       "      <td>ENSMUSG00000051951.5</td>\n",
       "    </tr>\n",
       "    <tr>\n",
       "      <td>ENSMUSG00000102851.1</td>\n",
       "    </tr>\n",
       "  </tbody>\n",
       "</table>\n",
       "</div>"
      ],
      "text/plain": [
       "Empty DataFrame\n",
       "Columns: []\n",
       "Index: [ENSMUSG00000051951.5, ENSMUSG00000102851.1]"
      ]
     },
     "metadata": {},
     "output_type": "display_data"
    },
    {
     "name": "stderr",
     "output_type": "stream",
     "text": [
      "100%|██████████| 25/25 [05:05<00:00, 11.70s/it]\n"
     ]
    },
    {
     "name": "stdout",
     "output_type": "stream",
     "text": [
      "UMIs: \t 20571740 \t Reads: \t 51200000\n",
      "UMIs: \t 1433742 \t Reads: \t 3200000\n",
      "UMIs: \t 1015726 \t Reads: \t 2262742\n",
      "UMIs: \t 74982204 \t Reads: \t 289630938\n",
      "UMIs: \t 63740 \t Reads: \t 141421\n",
      "UMIs: \t 83639178 \t Reads: \t 0\n",
      "UMIs: \t 2022292 \t Reads: \t 4525483\n",
      "UMIs: \t 4003347 \t Reads: \t 9050967\n",
      "UMIs: \t 360887 \t Reads: \t 800000\n",
      "UMIs: \t 5611289 \t Reads: \t 12800000\n",
      "UMIs: \t 719857 \t Reads: \t 1600000\n",
      "UMIs: \t 48061681 \t Reads: \t 144815469\n",
      "UMIs: \t 254964 \t Reads: \t 565685\n",
      "UMIs: \t 90110 \t Reads: \t 200000\n",
      "UMIs: \t 2847599 \t Reads: \t 6400000\n",
      "UMIs: \t 509956 \t Reads: \t 1131371\n",
      "UMIs: \t 36934330 \t Reads: \t 102400000\n",
      "UMIs: \t 45010 \t Reads: \t 100000\n",
      "UMIs: \t 7838130 \t Reads: \t 18101934\n",
      "UMIs: \t 60946675 \t Reads: \t 204800000\n",
      "UMIs: \t 180489 \t Reads: \t 400000\n",
      "UMIs: \t 10892676 \t Reads: \t 25600000\n",
      "UMIs: \t 15038633 \t Reads: \t 36203867\n",
      "UMIs: \t 27793736 \t Reads: \t 72407734\n",
      "UMIs: \t 127561 \t Reads: \t 282843\n",
      "AnnData object with n_obs × n_vars = 11843 × 36047 \n",
      "    obs: 'Cluster'\n",
      "    layers: '51200000', '3200000', '2262742', '289630938', '141421', '0', '4525483', '9050967', '800000', '12800000', '1600000', '144815469', '565685', '200000', '6400000', '1131371', '102400000', '100000', '18101934', '204800000', '400000', '25600000', '36203867', '72407734', '282843'\n"
     ]
    }
   ],
   "source": [
    "for ds in datasets:\n",
    "    print(' Now processing dataset: ', ds)\n",
    "    annotation = pd.read_csv(cluster_files[ds], index_col=0)\n",
    "    annotation.index = annotation.index.str.split('-').str.get(0)\n",
    "    display(annotation.head(2))\n",
    "\n",
    "\n",
    "    genes = pd.read_csv(subsampling_paths[ds] + 'genecounts_subsampled_0/genecounts.genes.txt', names=['gene_id']).set_index('gene_id')\n",
    "    display(genes.head(2))\n",
    "\n",
    "    base_ad = anndata.AnnData(obs=annotation, var=genes)\n",
    "\n",
    "    for mtx_file in tqdm(glob( subsampling_paths[ds] + '/genecounts_subsampled_*/genecounts.mtx')):\n",
    "        ss_depth = mtx_file.split('ed_')[-1].split('/')[0]\n",
    "        X = io.mmread(mtx_file).tocsr()\n",
    "\n",
    "        barcodes = pd.read_csv(\n",
    "            mtx_file.replace('.mtx', '.barcodes.txt'),\n",
    "            names=['barcode'],\n",
    "            index_col=0\n",
    "        )\n",
    "        curr_adata = anndata.AnnData(X=X, obs=barcodes, var=genes)\n",
    "\n",
    "        shared_barcodes = curr_adata.obs_names.intersection(base_ad.obs_names)\n",
    "        base_idx = base_ad.obs_names.get_indexer(shared_barcodes)\n",
    "        curr_idx = curr_adata.obs_names.get_indexer(shared_barcodes)\n",
    "\n",
    "        idxmtx = sparse.eye(base_ad.shape[0], format=\"csr\")[:, base_idx]\n",
    "        # For some reason this is way faster than equivalent indexing statement\n",
    "        base_ad.layers[ss_depth] = idxmtx @ curr_adata.X[curr_idx]\n",
    "        \n",
    "\n",
    "\n",
    "    # This is a check to ensure the anndata layers are correct\n",
    "    for depth in base_ad.layers.keys():\n",
    "        print('UMIs: \\t', int(base_ad.layers[depth].sum()),'\\t Reads: \\t', depth )\n",
    "    print(base_ad)\n",
    "\n",
    "\n",
    "    base_ad.write( ds + '_subsamples.h5ad')\n"
   ]
  },
  {
   "cell_type": "code",
   "execution_count": 6,
   "metadata": {},
   "outputs": [
    {
     "name": "stdout",
     "output_type": "stream",
     "text": [
      "total 9.4G\n",
      "drwxrwxr-x.  8 munfred munfred 4.0K Sep  8 20:34 \u001b[0m\u001b[01;34m.\u001b[0m/\n",
      "drwxrwxr-x. 13 munfred munfred 4.0K Sep  7 16:58 \u001b[01;34m..\u001b[0m/\n",
      "-rw-rw-r--.  1 munfred munfred 7.7K Sep  7 17:04 1) cell-depth-tradeoff-subsampling.py\n",
      "-rw-rw-r--.  1 munfred munfred  20K Sep  8 20:33 2) create_H5AD.ipynb\n",
      "-rw-rw-r--.  1 munfred munfred 6.8K Sep  7 20:56 3) run_scvi.py\n",
      "-rw-rw-r--.  1 munfred munfred 8.0M Sep  7 17:46 4) make_all_plots.ipynb\n",
      "drwxrwxr-x.  5 munfred munfred 4.0K Sep  7 17:38 \u001b[01;34mbenchmarks\u001b[0m/\n",
      "-rw-rw-r--.  1 munfred munfred 2.4K Sep  7 17:01 cell-depth-tradeoff-metadata.tsv\n",
      "-rw-rw-r--.  1 munfred munfred 160K Sep  8 20:03 heart10k_clusters.csv\n",
      "-rw-rw-r--.  1 munfred munfred 1.6G Sep  8 20:24 heart10k_subamples.h5ad\n",
      "drwxrwxr-x.  5 munfred munfred 4.0K Sep  7 18:07 \u001b[01;34mheart_10k_v3\u001b[0m/\n",
      "drwxrwxr-x.  2 munfred munfred 4.0K Sep  7 20:38 \u001b[01;34m.ipynb_checkpoints\u001b[0m/\n",
      "drwxrwxr-x.  5 munfred munfred 4.0K Sep  7 18:06 \u001b[01;34mneuron_10k_v3\u001b[0m/\n",
      "-rw-rw-r--.  1 munfred munfred 246K Sep  8 20:03 neurons10k_clusters.csv\n",
      "-rw-rw-r--.  1 munfred munfred 2.3G Sep  8 20:34 neurons10k_subamples.h5ad\n",
      "-rw-rw-r--.  1 munfred munfred 244K Sep  8 20:03 pbmc10k_clusters.csv\n",
      "-rw-rw-r--.  1 munfred munfred 2.6G Sep  8 20:29 pbmc10k_subamples.h5ad\n",
      "drwxrwxr-x.  5 munfred munfred 4.0K Sep  7 18:06 \u001b[01;34mpbmc_10k_v3\u001b[0m/\n",
      "drwxrwxr-x.  9 munfred munfred 4.0K Sep  7 17:07 \u001b[01;34m.snakemake\u001b[0m/\n",
      "-rw-rw-r--.  1 munfred munfred 3.0G Sep  8 19:21 \u001b[01;31msnakemake_subsampling_output.tar.gz\u001b[0m\n"
     ]
    }
   ],
   "source": [
    "ls -lah"
   ]
  },
  {
   "cell_type": "code",
   "execution_count": null,
   "metadata": {},
   "outputs": [],
   "source": []
  }
 ],
 "metadata": {
  "kernelspec": {
   "display_name": "Python 3",
   "language": "python",
   "name": "python3"
  },
  "language_info": {
   "codemirror_mode": {
    "name": "ipython",
    "version": 3
   },
   "file_extension": ".py",
   "mimetype": "text/x-python",
   "name": "python",
   "nbconvert_exporter": "python",
   "pygments_lexer": "ipython3",
   "version": "3.7.3"
  }
 },
 "nbformat": 4,
 "nbformat_minor": 4
}
