{
 "cells": [
  {
   "cell_type": "code",
   "execution_count": 1,
   "metadata": {},
   "outputs": [],
   "source": [
    "from glob import glob\n",
    "import anndata\n",
    "import pandas as pd\n",
    "from scipy import io\n",
    "from scipy import sparse\n",
    "from tqdm import tqdm\n",
    "import anndata\n",
    "# Important: anndata behavior changed in later versions, this notebook requires anndata 0.6.18 \n",
    "#  for setting the layers matrix through a view \n"
   ]
  },
  {
   "cell_type": "code",
   "execution_count": 2,
   "metadata": {},
   "outputs": [
    {
     "data": {
      "text/plain": [
       "'0.6.18'"
      ]
     },
     "execution_count": 2,
     "metadata": {},
     "output_type": "execute_result"
    }
   ],
   "source": [
    "anndata.__version__"
   ]
  },
  {
   "cell_type": "code",
   "execution_count": 3,
   "metadata": {},
   "outputs": [],
   "source": [
    "# create a dictionary with the paths for the subsampling folder where snakemake outputs are for each dataset\n",
    "\n",
    "datasets = ['heart10k', 'pbmc10k', 'neurons10k']\n",
    "\n",
    "subsampling_paths = {\n",
    "'heart10k' :'/home/projects/seqdepth/subsampling/heart_10k_v3/genecounts/',    \n",
    "'pbmc10k' :'/home/projects/seqdepth/subsampling/pbmc_10k_v3/genecounts/',    \n",
    "'neurons10k' :'/home/projects/seqdepth/subsampling/neuron_10k_v3/genecounts/',    \n",
    "}\n",
    "\n",
    "# these are annotation files downloaded from the 10x website, they are used to parse the barcodes and total number of cells in each dataset\n",
    "cluster_files = {\n",
    "'heart10k' :'./heart10k_clusters.csv',    \n",
    "'pbmc10k' :'./pbmc10k_clusters.csv',    \n",
    "'neurons10k' :'./neurons10k_clusters.csv',     \n",
    "    \n",
    "}"
   ]
  },
  {
   "cell_type": "code",
   "execution_count": 4,
   "metadata": {},
   "outputs": [
    {
     "name": "stdout",
     "output_type": "stream",
     "text": [
      "\n",
      " files for dataset heart10k :\n",
      "genecounts_subsampled_0        genecounts_subsampled_6400000\n",
      "genecounts_subsampled_100000   genecounts_subsampled_9050967\n",
      "genecounts_subsampled_141421   genecounts_subsampled_12800000\n",
      "genecounts_subsampled_200000   genecounts_subsampled_18101934\n",
      "genecounts_subsampled_282843   genecounts_subsampled_25600000\n",
      "genecounts_subsampled_400000   genecounts_subsampled_36203867\n",
      "genecounts_subsampled_565685   genecounts_subsampled_51200000\n",
      "genecounts_subsampled_800000   genecounts_subsampled_72407734\n",
      "genecounts_subsampled_1131371  genecounts_subsampled_102400000\n",
      "genecounts_subsampled_1600000  genecounts_subsampled_144815469\n",
      "genecounts_subsampled_2262742  genecounts_subsampled_204800000\n",
      "genecounts_subsampled_3200000  genecounts_subsampled_289630938\n",
      "genecounts_subsampled_4525483\n",
      "\n",
      " files for dataset pbmc10k :\n",
      "genecounts_subsampled_0        genecounts_subsampled_9050967\n",
      "genecounts_subsampled_100000   genecounts_subsampled_12800000\n",
      "genecounts_subsampled_141421   genecounts_subsampled_18101934\n",
      "genecounts_subsampled_200000   genecounts_subsampled_25600000\n",
      "genecounts_subsampled_282843   genecounts_subsampled_36203867\n",
      "genecounts_subsampled_400000   genecounts_subsampled_51200000\n",
      "genecounts_subsampled_565685   genecounts_subsampled_72407734\n",
      "genecounts_subsampled_800000   genecounts_subsampled_102400000\n",
      "genecounts_subsampled_1131371  genecounts_subsampled_144815469\n",
      "genecounts_subsampled_1600000  genecounts_subsampled_204800000\n",
      "genecounts_subsampled_2262742  genecounts_subsampled_289630938\n",
      "genecounts_subsampled_3200000  genecounts_subsampled_409600000\n",
      "genecounts_subsampled_4525483  genecounts_subsampled_579261875\n",
      "genecounts_subsampled_6400000\n",
      "\n",
      " files for dataset neurons10k :\n",
      "genecounts_subsampled_0        genecounts_subsampled_6400000\n",
      "genecounts_subsampled_100000   genecounts_subsampled_9050967\n",
      "genecounts_subsampled_141421   genecounts_subsampled_12800000\n",
      "genecounts_subsampled_200000   genecounts_subsampled_18101934\n",
      "genecounts_subsampled_282843   genecounts_subsampled_25600000\n",
      "genecounts_subsampled_400000   genecounts_subsampled_36203867\n",
      "genecounts_subsampled_565685   genecounts_subsampled_51200000\n",
      "genecounts_subsampled_800000   genecounts_subsampled_72407734\n",
      "genecounts_subsampled_1131371  genecounts_subsampled_102400000\n",
      "genecounts_subsampled_1600000  genecounts_subsampled_144815469\n",
      "genecounts_subsampled_2262742  genecounts_subsampled_204800000\n",
      "genecounts_subsampled_3200000  genecounts_subsampled_289630938\n",
      "genecounts_subsampled_4525483\n"
     ]
    }
   ],
   "source": [
    "# check that output folders eist\n",
    "for ds in datasets:\n",
    "    print('\\n files for dataset', ds, ':')\n",
    "    !ls -v {subsampling_paths[ds]}"
   ]
  },
  {
   "cell_type": "code",
   "execution_count": 5,
   "metadata": {},
   "outputs": [
    {
     "name": "stdout",
     "output_type": "stream",
     "text": [
      "total 5.0M\n",
      "drwxrwxr-x.  2 munfred munfred 4.0K Aug  6 03:43 .\n",
      "drwxrwxr-x. 29 munfred munfred 4.0K Aug  6 03:41 ..\n",
      "-rw-rw-r--.  1 munfred munfred 223K Aug  6 03:43 genecounts.barcodes.txt\n",
      "-rw-rw-r--.  1 munfred munfred 640K Aug  6 03:43 genecounts.genes.txt\n",
      "-rw-rw-r--.  1 munfred munfred 557K Aug  6 03:43 genecounts.mtx\n",
      "-rw-rw-r--.  1 munfred munfred 1.7M Aug  6 03:43 output.correct.sort.bus\n",
      "-rw-rw-r--.  1 munfred munfred 2.0M Aug  6 03:43 output.correct.sort.bus.txt\n"
     ]
    }
   ],
   "source": [
    "# check one folder\n",
    "!ls -lah {subsampling_paths['pbmc10k']}/genecounts_subsampled_100000/"
   ]
  },
  {
   "cell_type": "code",
   "execution_count": 8,
   "metadata": {},
   "outputs": [
    {
     "name": "stdout",
     "output_type": "stream",
     "text": [
      " Now processing dataset:  heart10k\n"
     ]
    },
    {
     "data": {
      "text/html": [
       "<div>\n",
       "<style scoped>\n",
       "    .dataframe tbody tr th:only-of-type {\n",
       "        vertical-align: middle;\n",
       "    }\n",
       "\n",
       "    .dataframe tbody tr th {\n",
       "        vertical-align: top;\n",
       "    }\n",
       "\n",
       "    .dataframe thead th {\n",
       "        text-align: right;\n",
       "    }\n",
       "</style>\n",
       "<table border=\"1\" class=\"dataframe\">\n",
       "  <thead>\n",
       "    <tr style=\"text-align: right;\">\n",
       "      <th></th>\n",
       "      <th>Cluster</th>\n",
       "    </tr>\n",
       "    <tr>\n",
       "      <th>Barcode</th>\n",
       "      <th></th>\n",
       "    </tr>\n",
       "  </thead>\n",
       "  <tbody>\n",
       "    <tr>\n",
       "      <th>AAACCCAAGCGAGTCA</th>\n",
       "      <td>2</td>\n",
       "    </tr>\n",
       "    <tr>\n",
       "      <th>AAACCCAAGGTCATTC</th>\n",
       "      <td>1</td>\n",
       "    </tr>\n",
       "  </tbody>\n",
       "</table>\n",
       "</div>"
      ],
      "text/plain": [
       "                  Cluster\n",
       "Barcode                  \n",
       "AAACCCAAGCGAGTCA        2\n",
       "AAACCCAAGGTCATTC        1"
      ]
     },
     "metadata": {},
     "output_type": "display_data"
    },
    {
     "data": {
      "text/html": [
       "<div>\n",
       "<style scoped>\n",
       "    .dataframe tbody tr th:only-of-type {\n",
       "        vertical-align: middle;\n",
       "    }\n",
       "\n",
       "    .dataframe tbody tr th {\n",
       "        vertical-align: top;\n",
       "    }\n",
       "\n",
       "    .dataframe thead th {\n",
       "        text-align: right;\n",
       "    }\n",
       "</style>\n",
       "<table border=\"1\" class=\"dataframe\">\n",
       "  <thead>\n",
       "    <tr style=\"text-align: right;\">\n",
       "      <th></th>\n",
       "    </tr>\n",
       "    <tr>\n",
       "      <th>gene_id</th>\n",
       "    </tr>\n",
       "  </thead>\n",
       "  <tbody>\n",
       "    <tr>\n",
       "      <th>ENSMUSG00000051951.5</th>\n",
       "    </tr>\n",
       "    <tr>\n",
       "      <th>ENSMUSG00000102851.1</th>\n",
       "    </tr>\n",
       "  </tbody>\n",
       "</table>\n",
       "</div>"
      ],
      "text/plain": [
       "Empty DataFrame\n",
       "Columns: []\n",
       "Index: [ENSMUSG00000051951.5, ENSMUSG00000102851.1]"
      ]
     },
     "metadata": {},
     "output_type": "display_data"
    },
    {
     "name": "stderr",
     "output_type": "stream",
     "text": [
      "100%|██████████| 25/25 [10:53<00:00, 25.47s/it]\n"
     ]
    },
    {
     "name": "stdout",
     "output_type": "stream",
     "text": [
      "UMIs: \t 19373016 \t Reads: \t 51200000\n",
      "UMIs: \t 1341886 \t Reads: \t 3200000\n",
      "UMIs: \t 950966 \t Reads: \t 2262742\n",
      "UMIs: \t 72563226 \t Reads: \t 289630938\n",
      "UMIs: \t 59635 \t Reads: \t 141421\n",
      "UMIs: \t 72679923 \t Reads: \t 0\n",
      "UMIs: \t 1891433 \t Reads: \t 4525483\n",
      "UMIs: \t 3747318 \t Reads: \t 9050967\n",
      "UMIs: \t 337292 \t Reads: \t 800000\n",
      "UMIs: \t 5256131 \t Reads: \t 12800000\n",
      "UMIs: \t 673164 \t Reads: \t 1600000\n",
      "UMIs: \t 45811720 \t Reads: \t 144815469\n",
      "UMIs: \t 238550 \t Reads: \t 565685\n",
      "UMIs: \t 84409 \t Reads: \t 200000\n",
      "UMIs: \t 2664470 \t Reads: \t 6400000\n",
      "UMIs: \t 476734 \t Reads: \t 1131371\n",
      "UMIs: \t 35021220 \t Reads: \t 102400000\n",
      "UMIs: \t 42202 \t Reads: \t 100000\n",
      "UMIs: \t 7346236 \t Reads: \t 18101934\n",
      "UMIs: \t 58484104 \t Reads: \t 204800000\n",
      "UMIs: \t 168862 \t Reads: \t 400000\n",
      "UMIs: \t 10223782 \t Reads: \t 25600000\n",
      "UMIs: \t 14134634 \t Reads: \t 36203867\n",
      "UMIs: \t 26246409 \t Reads: \t 72407734\n",
      "UMIs: \t 119301 \t Reads: \t 282843\n",
      "AnnData object with n_obs × n_vars = 7713 × 36047 \n",
      "    obs: 'Cluster'\n",
      "    layers: '51200000', '3200000', '2262742', '289630938', '141421', '0', '4525483', '9050967', '800000', '12800000', '1600000', '144815469', '565685', '200000', '6400000', '1131371', '102400000', '100000', '18101934', '204800000', '400000', '25600000', '36203867', '72407734', '282843'\n"
     ]
    }
   ],
   "source": [
    "for ds in datasets:\n",
    "    print(' Now processing dataset: ', ds)\n",
    "    annotation = pd.read_csv(cluster_files[ds], index_col=0)\n",
    "    annotation.index = annotation.index.str.split('-').str.get(0)\n",
    "    display(annotation.head(2))\n",
    "\n",
    "\n",
    "    genes = pd.read_csv(subsampling_paths[ds] + 'genecounts_subsampled_0/genecounts.genes.txt', names=['gene_id']).set_index('gene_id')\n",
    "    display(genes.head(2))\n",
    "\n",
    "    base_ad = anndata.AnnData(obs=annotation, var=genes)\n",
    "\n",
    "    for mtx_file in tqdm(glob( subsampling_paths[ds] + '/genecounts_subsampled_*/genecounts.mtx')):\n",
    "        ss_depth = mtx_file.split('ed_')[-1].split('/')[0]\n",
    "        X = io.mmread(mtx_file).tocsr()\n",
    "\n",
    "        barcodes = pd.read_csv(\n",
    "            mtx_file.replace('.mtx', '.barcodes.txt'),\n",
    "            names=['barcode'],\n",
    "            index_col=0\n",
    "        )\n",
    "        curr_adata = anndata.AnnData(X=X, obs=barcodes, var=genes)\n",
    "        idx = curr_adata.obs.index.intersection(base_ad.obs.index)\n",
    "\n",
    "        base_ad.layers[ss_depth] = sparse.csr_matrix(base_ad.shape)\n",
    "        base_ad[idx].layers[ss_depth] = curr_adata[idx].X\n",
    "\n",
    "    # This is a check to ensure the anndata layers are correct\n",
    "    for depth in base_ad.layers.keys():\n",
    "        print('UMIs: \\t', int(base_ad.layers[depth].sum()),'\\t Reads: \\t', depth )\n",
    "    print(base_ad)\n",
    "\n",
    "\n",
    "#     base_ad.write( ds + '_subamples.h5ad')\n",
    "    \n",
    "    break"
   ]
  },
  {
   "cell_type": "code",
   "execution_count": 7,
   "metadata": {},
   "outputs": [
    {
     "name": "stdout",
     "output_type": "stream",
     "text": [
      "total 6.4G\n",
      "drwxrwxr-x.  9 munfred munfred 4.0K Aug 31 16:13 \u001b[0m\u001b[01;34m.\u001b[0m/\n",
      "drwxrwxr-x. 12 munfred munfred 4.0K Aug 31 12:33 \u001b[01;34m..\u001b[0m/\n",
      "drwxrwxr-x.  5 munfred munfred 4.0K Aug 25 20:47 \u001b[01;34mbenchmarks\u001b[0m/\n",
      "-rw-rw-r--.  1 munfred munfred 2.4K Aug 25 20:03 cell-depth-tradeoff-metadata.tsv\n",
      "-rw-rw-r--.  1 munfred munfred 7.8K Aug 25 20:21 cell-depth-tradeoff-subsampling.py\n",
      "-rw-rw-r--.  1 munfred munfred  13K Aug 24 21:03 create_H5AD-Copy1.ipynb\n",
      "-rw-rw-r--.  1 munfred munfred  12K Aug 31 16:13 create_H5AD-Copy2.ipynb\n",
      "-rw-rw-r--.  1 munfred munfred  24K Aug 30 17:41 create_H5AD.ipynb\n",
      "-rw-rw-r--.  1 munfred munfred 160K Aug 25 17:35 heart10k_clusters.csv\n",
      "-rw-rw-r--.  1 munfred munfred 1.6G Aug 29 20:44 heart10k_subsamples.h5ad\n",
      "drwxrwxr-x.  5 munfred munfred 4.0K Aug 25 21:15 \u001b[01;34mheart_10k_v3\u001b[0m/\n",
      "drwxrwxr-x.  2 munfred munfred 4.0K Aug 31 16:01 \u001b[01;34m.ipynb_checkpoints\u001b[0m/\n",
      "drwxrwxr-x.  5 munfred munfred 4.0K Aug 25 21:15 \u001b[01;34mneuron_10k_v3\u001b[0m/\n",
      "-rw-rw-r--.  1 munfred munfred 246K Aug 25 17:35 neurons10k_clusters.csv\n",
      "-rw-rw-r--.  1 munfred munfred 2.3G Aug 29 21:14 neurons10k_subsamples.h5ad\n",
      "-rw-rw-r--.  1 munfred munfred 244K Aug 25 17:35 pbmc10k_clusters.csv\n",
      "-rw-rw-r--.  1 munfred munfred 2.6G Aug 29 20:59 pbmc10k_subsamples.h5ad\n",
      "drwxrwxr-x.  5 munfred munfred 4.0K Aug 25 21:15 \u001b[01;34mpbmc_10k_v3\u001b[0m/\n",
      "-rw-rw-r--.  1 munfred munfred  75K Aug 30 18:59 run_scVI.ipynb\n",
      "-rw-rw-r--.  1 munfred munfred 5.7K Aug 30 18:57 run_scvi.py\n",
      "-rw-rw-r--.  1 munfred munfred  23K Aug 30 18:35 scVI❤️heart10k❤️-Copy1.ipynb\n",
      "drwxrwxr-x.  2 munfred munfred  20K Aug 31 16:10 \u001b[01;34mscvi_output_neurons10k\u001b[0m/\n",
      "drwxrwxr-x.  9 munfred munfred 4.0K Aug 25 17:26 \u001b[01;34m.snakemake\u001b[0m/\n"
     ]
    }
   ],
   "source": [
    "ls -lah"
   ]
  },
  {
   "cell_type": "code",
   "execution_count": null,
   "metadata": {},
   "outputs": [],
   "source": []
  }
 ],
 "metadata": {
  "kernelspec": {
   "display_name": "Python 3",
   "language": "python",
   "name": "python3"
  },
  "language_info": {
   "codemirror_mode": {
    "name": "ipython",
    "version": 3
   },
   "file_extension": ".py",
   "mimetype": "text/x-python",
   "name": "python",
   "nbconvert_exporter": "python",
   "pygments_lexer": "ipython3",
   "version": "3.6.8"
  }
 },
 "nbformat": 4,
 "nbformat_minor": 2
}
